{
 "cells": [
  {
   "cell_type": "code",
   "execution_count": 5,
   "id": "63c6a2b9",
   "metadata": {},
   "outputs": [
    {
     "name": "stdout",
     "output_type": "stream",
     "text": [
      "Node A\n",
      "Node B\n",
      "Node C\n",
      "Node D\n"
     ]
    },
    {
     "data": {
      "text/plain": [
       "[{'node_a': {'value': 'A'}},\n",
       " {'node_b': {'value': 'AB'}},\n",
       " {'node_c': {'value': 'ABC'}},\n",
       " {'node_d': {'value': 'ABCD'}}]"
      ]
     },
     "execution_count": 5,
     "metadata": {},
     "output_type": "execute_result"
    }
   ],
   "source": [
    "from langchain_community.tools import TavilySearchResults\n",
    "from langchain_groq import ChatGroq\n",
    "from langgraph.prebuilt import ToolNode\n",
    "from langchain_core.messages import HumanMessage\n",
    "from langgraph.graph import StateGraph, START, END\n",
    "from langgraph.types import Command, interrupt\n",
    "from typing import TypedDict\n",
    "from langgraph.checkpoint.memory import MemorySaver\n",
    "\n",
    "memory = MemorySaver()\n",
    "\n",
    "\n",
    "class State(TypedDict):\n",
    "    value: str\n",
    "\n",
    "\n",
    "def node_a(state: State) -> Command:\n",
    "    print(\"Node A\")\n",
    "    return Command(\n",
    "        goto=\"node_b\",\n",
    "        update={\n",
    "            \"value\": state[\"value\"] + \"A\"\n",
    "        }\n",
    "    )\n",
    "\n",
    "\n",
    "def node_b(state: State) -> Command:\n",
    "    print(\"Node B\")\n",
    "    return Command(\n",
    "        goto=\"node_c\",\n",
    "        update={\n",
    "            \"value\": state[\"value\"] + \"B\"\n",
    "        }\n",
    "    )\n",
    "\n",
    "\n",
    "def node_c(state: State) -> Command:\n",
    "    print(\"Node C\")\n",
    "    return Command(\n",
    "        goto=\"node_d\",\n",
    "        update={\n",
    "            \"value\": state[\"value\"] + \"C\"\n",
    "        }\n",
    "    )\n",
    "\n",
    "\n",
    "def node_d(state: State) -> Command:\n",
    "    print(\"Node D\")\n",
    "    return Command(\n",
    "        goto=END,\n",
    "        update={\n",
    "            \"value\": state[\"value\"] + \"D\"\n",
    "        }\n",
    "    )\n",
    "\n",
    "\n",
    "graph = StateGraph(State)\n",
    "\n",
    "graph.add_node(\"node_a\", node_a)\n",
    "graph.add_node(\"node_b\", node_b)\n",
    "graph.add_node(\"node_c\", node_c)\n",
    "graph.add_node(\"node_d\", node_d)\n",
    "\n",
    "graph.set_entry_point(\"node_a\")\n",
    "\n",
    "app = graph.compile(checkpointer=memory)\n",
    "\n",
    "config = {\n",
    "    \"configurable\" :  {\n",
    "        \"thread_id\": \"1\",\n",
    "    }\n",
    "}\n",
    "\n",
    "initialState = {\n",
    "    \"value\": \"\"\n",
    "}\n",
    "\n",
    "\n",
    "first_result = app.invoke(\n",
    "    initialState,\n",
    "    config,\n",
    "    stream_mode=\"updates\")\n",
    "\n",
    "first_result\n"
   ]
  },
  {
   "cell_type": "code",
   "execution_count": null,
   "id": "720fcd30",
   "metadata": {},
   "outputs": [],
   "source": []
  }
 ],
 "metadata": {
  "kernelspec": {
   "display_name": "langgraph-main",
   "language": "python",
   "name": "python3"
  },
  "language_info": {
   "codemirror_mode": {
    "name": "ipython",
    "version": 3
   },
   "file_extension": ".py",
   "mimetype": "text/x-python",
   "name": "python",
   "nbconvert_exporter": "python",
   "pygments_lexer": "ipython3",
   "version": "3.12.3"
  }
 },
 "nbformat": 4,
 "nbformat_minor": 5
}
